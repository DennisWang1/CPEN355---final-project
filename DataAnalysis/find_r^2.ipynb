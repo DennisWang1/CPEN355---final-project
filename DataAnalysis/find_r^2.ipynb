{
 "cells": [
  {
   "cell_type": "code",
   "execution_count": 1,
   "metadata": {},
   "outputs": [
    {
     "name": "stderr",
     "output_type": "stream",
     "text": [
      "C:\\Users\\Dennis\\AppData\\Local\\Temp\\ipykernel_6100\\2319627976.py:27: DeprecationWarning: DataFrameGroupBy.apply operated on the grouping columns. This behavior is deprecated, and in a future version of pandas the grouping columns will be excluded from the operation. Either pass `include_groups=False` to exclude the groupings or explicitly select the grouping columns after groupby to silence this warning.\n",
      "  filtered_data = filtered_data.groupby('Genmodel_ID').apply(sample_images).reset_index(drop=True)\n"
     ]
    },
    {
     "name": "stdout",
     "output_type": "stream",
     "text": [
      "1506/1506 [==============================] - 270s 85ms/step\n",
      "R²: 0.9363492973819664\n"
     ]
    }
   ],
   "source": [
    "import pandas as pd\n",
    "import numpy as np\n",
    "import tensorflow as tf\n",
    "from tensorflow.keras.models import load_model\n",
    "from sklearn.preprocessing import StandardScaler\n",
    "from sklearn.metrics import mean_absolute_error, r2_score\n",
    "from sklearn.model_selection import train_test_split\n",
    "from pathlib import Path\n",
    "\n",
    "image_table = pd.read_csv('D:\\\\CPEN355_project\\\\Data\\\\Image_table.csv')\n",
    "price_table = pd.read_csv('D:\\\\CPEN355_project\\\\Data\\\\Price_table.csv')\n",
    "\n",
    "merged_data = pd.merge(image_table[['Genmodel_ID', 'Image_name']],\n",
    "                       price_table[['Genmodel_ID', 'Entry_price']],\n",
    "                       on='Genmodel_ID')\n",
    "\n",
    "image_counts = merged_data['Genmodel_ID'].value_counts()\n",
    "valid_genmodels = image_counts[image_counts >= 300].index\n",
    "filtered_data = merged_data[merged_data['Genmodel_ID'].isin(valid_genmodels)]\n",
    "\n",
    "def sample_images(group):\n",
    "    if len(group) > 500:\n",
    "        return group.sample(n=500, random_state=42)\n",
    "    else:\n",
    "        return group\n",
    "\n",
    "filtered_data = filtered_data.groupby('Genmodel_ID').apply(sample_images).reset_index(drop=True)\n",
    "\n",
    "image_directory = 'D:\\\\CPEN355_project\\\\355DataSet\\\\DVM_noNest' \n",
    "filtered_data['Image_path'] = filtered_data['Image_name'].apply(\n",
    "    lambda x: f\"{image_directory}\\\\{x}\"\n",
    ")\n",
    "\n",
    "def image_exists(path):\n",
    "    return Path(path).is_file()\n",
    "\n",
    "exists_mask = filtered_data['Image_path'].apply(image_exists)\n",
    "filtered_data = filtered_data[exists_mask].reset_index(drop=True)\n",
    "\n",
    "image_paths = filtered_data['Image_path']\n",
    "prices = filtered_data['Entry_price'].values\n",
    "\n",
    "img_size = 224 \n",
    "batch_size = 32\n",
    "\n",
    "scaler = StandardScaler()\n",
    "prices_scaled = scaler.fit_transform(prices.reshape(-1, 1))\n",
    "\n",
    "X_train_paths, X_test_paths, y_train_scaled, y_test_scaled = train_test_split(\n",
    "    image_paths, prices_scaled, test_size=0.2, random_state=42)\n",
    "\n",
    "def preprocess_image(image_path, label):\n",
    "    image = tf.io.read_file(image_path)\n",
    "    image = tf.image.decode_jpeg(image, channels=3)\n",
    "    image = tf.image.resize(image, [img_size, img_size])\n",
    "    image = image / 255.0\n",
    "    return image, label\n",
    "\n",
    "test_dataset = tf.data.Dataset.from_tensor_slices((X_test_paths.values, y_test_scaled))\n",
    "test_dataset = test_dataset.map(preprocess_image, num_parallel_calls=tf.data.AUTOTUNE)\n",
    "test_dataset = test_dataset.batch(batch_size).prefetch(tf.data.AUTOTUNE)\n",
    "\n",
    "model = tf.keras.models.load_model('best_cnn_model.h5')\n",
    "\n",
    "predictions_scaled = model.predict(test_dataset)\n",
    "predictions_scaled = np.concatenate(predictions_scaled, axis=0)\n",
    "y_test_scaled_flat = np.concatenate([y for x, y in test_dataset], axis=0)\n",
    "\n",
    "predictions = scaler.inverse_transform(predictions_scaled.reshape(-1, 1)).flatten()\n",
    "y_test = scaler.inverse_transform(y_test_scaled_flat.reshape(-1, 1)).flatten()\n",
    "\n",
    "r2 = r2_score(y_test, predictions)\n",
    "print(f\"R²: {r2}\")\n"
   ]
  }
 ],
 "metadata": {
  "kernelspec": {
   "display_name": "Python 3",
   "language": "python",
   "name": "python3"
  },
  "language_info": {
   "codemirror_mode": {
    "name": "ipython",
    "version": 3
   },
   "file_extension": ".py",
   "mimetype": "text/x-python",
   "name": "python",
   "nbconvert_exporter": "python",
   "pygments_lexer": "ipython3",
   "version": "3.10.0"
  }
 },
 "nbformat": 4,
 "nbformat_minor": 2
}
